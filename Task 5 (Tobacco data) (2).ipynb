{
 "cells": [
  {
   "cell_type": "code",
   "execution_count": 1,
   "id": "09018164",
   "metadata": {},
   "outputs": [],
   "source": [
    "import requests\n",
    "import pandas as pd\n",
    "from bs4 import BeautifulSoup"
   ]
  },
  {
   "cell_type": "code",
   "execution_count": 2,
   "id": "3556fe07",
   "metadata": {},
   "outputs": [],
   "source": [
    "url = \"https://www.findeasy.in/tobacco-use-among-adults-in-india/\""
   ]
  },
  {
   "cell_type": "code",
   "execution_count": 3,
   "id": "f3962d8c",
   "metadata": {},
   "outputs": [],
   "source": [
    "r = requests.get(url)"
   ]
  },
  {
   "cell_type": "code",
   "execution_count": 4,
   "id": "eff75424",
   "metadata": {},
   "outputs": [
    {
     "name": "stdout",
     "output_type": "stream",
     "text": [
      "<Response [200]>\n"
     ]
    }
   ],
   "source": [
    "print(r)"
   ]
  },
  {
   "cell_type": "code",
   "execution_count": 5,
   "id": "92b8f0f1",
   "metadata": {},
   "outputs": [],
   "source": [
    "soup = BeautifulSoup(r.text,\"lxml\")"
   ]
  },
  {
   "cell_type": "code",
   "execution_count": 6,
   "id": "a8f2bb52",
   "metadata": {},
   "outputs": [],
   "source": [
    "#print(soup)"
   ]
  },
  {
   "cell_type": "code",
   "execution_count": 7,
   "id": "86985e44",
   "metadata": {},
   "outputs": [],
   "source": [
    "table = soup.find_all(\"div\" ,class_ = \"mobile-scroll-table-wrapp mobile-scroll-table-tbody\")"
   ]
  },
  {
   "cell_type": "code",
   "execution_count": 8,
   "id": "34cbaf60",
   "metadata": {},
   "outputs": [
    {
     "name": "stdout",
     "output_type": "stream",
     "text": [
      "[]\n"
     ]
    }
   ],
   "source": [
    "print(table)"
   ]
  },
  {
   "cell_type": "code",
   "execution_count": 9,
   "id": "9912b165",
   "metadata": {},
   "outputs": [],
   "source": [
    "rows= soup.find_all(\"td\")"
   ]
  },
  {
   "cell_type": "code",
   "execution_count": 10,
   "id": "edc77924",
   "metadata": {},
   "outputs": [],
   "source": [
    "#rows"
   ]
  },
  {
   "cell_type": "code",
   "execution_count": 11,
   "id": "95f01c7b",
   "metadata": {},
   "outputs": [],
   "source": [
    " header = []\n",
    "for i in rows:\n",
    "        name = i.text\n",
    "        header.append(name)"
   ]
  },
  {
   "cell_type": "code",
   "execution_count": 12,
   "id": "59fc24fa",
   "metadata": {},
   "outputs": [
    {
     "name": "stdout",
     "output_type": "stream",
     "text": [
      "['#', 'States & Union\\xa0Territories', 'Women (15 years & above)', 'Men\\xa0 (15 years & above)', '1', 'Andaman &\\xa0 Nicobar\\xa0', '31.3 %', '58.7 %', '2', 'AP', '3.8%', '22.6%', '3', 'Arunachal', '18.8%', '50.3%', '4', 'Assam', '22.1%', '51.8%', '5', 'Bihar', '5.0%', '48.8%', '6', 'Chandigarh', '0.6%', '12.1%', '7', 'Chattishgarh', '17.3%', '43.1%', '8', 'D&N', '2.9%', '38.6%', '9', 'Delhi', '2.2%', '26.3%', '10', 'Goa', '2.6%', '18.2%', '11', 'Gujarat', '8.7%', '41.1%', '12', 'Haryana', '2.5%', '29.1%', '13', 'Himachal Pradesh', '1.7%', '32.3%', '14', 'J&K', '3.6%', '38.3%', '15', 'Jharkhand', '8.4%', '47.4%', '16', 'Karnataka', '8.5%', '27.1%', '17', 'Kerala', '2.2%', '16.9%', '18', 'Ladakh', '3.2%', '35.7%', '19', 'Lakshadweep', '17.5%', '28.5%', '20', 'Maharashtra', '10.9%', '33.8%', '21', 'Manipur', '43.1%', '58.1%', '22', 'Meghalaya', '28.2%', '57.7%', '23', 'Mizoram', '61.6%', '72.9%', '24', 'Madhya Pradesh', '10.2%', '46.5%', '25', 'Nagaland', '13.7%', '48.4%', '26', 'Odisha', '26.0%', '51.6%', '27', 'Puducherry', '2.6%', '14.8%', '28', 'Punjab', '0.4%', '12.9%', '29', 'Rajasthan', '6.9%', '42.0%', '30', 'Sikkim', '11.7%', '41.3%', '31', 'Tamil Nadu', '4.9%', '20.1%', '32', 'Telangana', '5.6%', '22.3%', '33', 'Tripura', '50.4%', '56.9%', '34', 'Uttar Pradesh', '8.4%', '44.1%', '35', 'Uttarakhand', '4.6%', '33.7%', '36', 'West Bengal', '10.8%', '48.1%', '\\xa0', 'India', '8.9%', '38.0%', '#', 'States & Uts', 'Women (15 years & above)', '1', 'Mizoram', '61.6', '2', 'Tripura', '50.4', '3', 'Manipur', '43.1', '4', 'A&N', '31.3', '5', 'Meghalaya', '28.2', '6', 'Odisha', '26.0', '7', 'Assam', '22.1', '8', 'Arunachal', '18.8', '9', 'Chattishgarh', '17.3', '10', 'Nagaland', '13.7', '#', 'States & Uts', 'Men\\xa0 ( 15 years & above)', '1', 'Mizoram', '72.9', '2', 'A&N', '58.7', '3', 'Manipur', '58.1', '4', 'Meghalaya', '57.7', '5', 'Tripura', '56.9', '6', 'Assam', '51.8', '7', 'Odisha', '51.6', '8', 'Arunachal', '50.3', '9', 'Bihar', '48.8', '10', 'Nagaland', '48.4']\n"
     ]
    }
   ],
   "source": [
    "print(header)"
   ]
  },
  {
   "cell_type": "code",
   "execution_count": 13,
   "id": "b98c00e8",
   "metadata": {},
   "outputs": [
    {
     "name": "stdout",
     "output_type": "stream",
     "text": [
      "Requirement already satisfied: tabulate in c:\\users\\ayushi parkia\\anaconda3\\lib\\site-packages (0.8.9)\n",
      "Note: you may need to restart the kernel to use updated packages.\n"
     ]
    }
   ],
   "source": [
    "pip install tabulate"
   ]
  },
  {
   "cell_type": "code",
   "execution_count": 4,
   "id": "3f64bc01",
   "metadata": {},
   "outputs": [
    {
     "name": "stdout",
     "output_type": "stream",
     "text": [
      "+---------+-----------------+------------------------+----------------------+\n",
      "|   Slno. | State/UT        | Women(15years&above)   | Men(15years&above)   |\n",
      "+=========+=================+========================+======================+\n",
      "|       1 | Andaman&Nicobar | 31.3%                  | 58.7%                |\n",
      "+---------+-----------------+------------------------+----------------------+\n",
      "|       2 | AP              | 3.8%                   | 22.6%                |\n",
      "+---------+-----------------+------------------------+----------------------+\n",
      "|       3 | Arunachal       | 18.8%                  | 50.3%                |\n",
      "+---------+-----------------+------------------------+----------------------+\n",
      "|       4 | Assam           | 22.1%                  | 51.8%                |\n",
      "+---------+-----------------+------------------------+----------------------+\n",
      "|       5 | Bihar           | 5.0%                   | 48.8%                |\n",
      "+---------+-----------------+------------------------+----------------------+\n",
      "|       6 | Chandigarh      | 0.6%                   | 12.1%                |\n",
      "+---------+-----------------+------------------------+----------------------+\n",
      "|       7 | Chattishgarh    | 17.3%                  | 43.1%                |\n",
      "+---------+-----------------+------------------------+----------------------+\n",
      "|       8 | D&N             | 2.9%                   | 38.6%                |\n",
      "+---------+-----------------+------------------------+----------------------+\n",
      "|       9 | Delhi           | 2.2%                   | 26.3%                |\n",
      "+---------+-----------------+------------------------+----------------------+\n",
      "|      10 | Goa             | 2.6%                   | 18.2%                |\n",
      "+---------+-----------------+------------------------+----------------------+\n",
      "|      11 | Gujarat         | 8.7%                   | 41.1%                |\n",
      "+---------+-----------------+------------------------+----------------------+\n",
      "|      12 | Haryana         | 2.5%                   | 29.1%                |\n",
      "+---------+-----------------+------------------------+----------------------+\n",
      "|      13 | HimachalPradesh | 1.7%                   | 32.3%                |\n",
      "+---------+-----------------+------------------------+----------------------+\n",
      "|      14 | J&K             | 3.6%                   | 38.3%                |\n",
      "+---------+-----------------+------------------------+----------------------+\n",
      "|      15 | Jharkhand       | 8.4%                   | 47.4%                |\n",
      "+---------+-----------------+------------------------+----------------------+\n",
      "|      16 | Karnataka       | 8.5%                   | 27.1%                |\n",
      "+---------+-----------------+------------------------+----------------------+\n",
      "|      17 | Kerala          | 2.2%                   | 16.9%                |\n",
      "+---------+-----------------+------------------------+----------------------+\n",
      "|      18 | Ladakh          | 3.2%                   | 35.7%                |\n",
      "+---------+-----------------+------------------------+----------------------+\n",
      "|      19 | Lakshadweep     | 17.5%                  | 28.5%                |\n",
      "+---------+-----------------+------------------------+----------------------+\n",
      "|      20 | Maharashtra     | 10.9%                  | 33.8%                |\n",
      "+---------+-----------------+------------------------+----------------------+\n",
      "|      21 | Manipur         | 43.1%                  | 58.1%                |\n",
      "+---------+-----------------+------------------------+----------------------+\n",
      "|      22 | Meghalaya       | 28.2%                  | 57.7%                |\n",
      "+---------+-----------------+------------------------+----------------------+\n",
      "|      23 | Mizoram         | 61.6%                  | 72.9%                |\n",
      "+---------+-----------------+------------------------+----------------------+\n",
      "|      24 | MadhyaPradesh   | 10.2%                  | 46.5%                |\n",
      "+---------+-----------------+------------------------+----------------------+\n",
      "|      25 | Nagaland        | 13.7%                  | 48.4%                |\n",
      "+---------+-----------------+------------------------+----------------------+\n",
      "|      26 | Odisha          | 26.0%                  | 51.6%                |\n",
      "+---------+-----------------+------------------------+----------------------+\n",
      "|      27 | Puducherry      | 2.6%                   | 14.8%                |\n",
      "+---------+-----------------+------------------------+----------------------+\n",
      "|      28 | Punjab          | 0.4%                   | 12.9%                |\n",
      "+---------+-----------------+------------------------+----------------------+\n",
      "|      29 | Rajasthan       | 6.9%                   | 42.0%                |\n",
      "+---------+-----------------+------------------------+----------------------+\n",
      "|      30 | Sikkim          | 11.7%                  | 41.3%                |\n",
      "+---------+-----------------+------------------------+----------------------+\n",
      "|      31 | TamilNadu       | 4.9%                   | 20.1%                |\n",
      "+---------+-----------------+------------------------+----------------------+\n",
      "|      32 | Telangana       | 5.6%                   | 22.3%                |\n",
      "+---------+-----------------+------------------------+----------------------+\n",
      "|      33 | Tripura         | 50.4%                  | 56.9%                |\n",
      "+---------+-----------------+------------------------+----------------------+\n",
      "|      34 | UttarPradesh    | 8.4%                   | 44.1%                |\n",
      "+---------+-----------------+------------------------+----------------------+\n",
      "|      35 | Uttarakhand     | 4.6%                   | 33.7%                |\n",
      "+---------+-----------------+------------------------+----------------------+\n",
      "|      36 | WestBengal      | 10.8%                  | 48.1%                |\n",
      "+---------+-----------------+------------------------+----------------------+\n"
     ]
    }
   ],
   "source": [
    "from tabulate import tabulate\n",
    "\n",
    "text = \"\"\"\n",
    "Slno.\tState/UT\tWomen(15years&above)\tMen(15years&above)\n",
    "1\tAndaman&Nicobar \t31.3%\t58.7%\n",
    "2\tAP\t3.8%\t22.6%\n",
    "3\tArunachal\t18.8%\t50.3%\n",
    "4\tAssam\t22.1%\t51.8%\n",
    "5\tBihar\t5.0%\t48.8%\n",
    "6\tChandigarh\t0.6%\t12.1%\n",
    "7\tChattishgarh\t17.3%\t43.1%\n",
    "8\tD&N\t2.9%\t38.6%\n",
    "9\tDelhi\t2.2%\t26.3%\n",
    "10\tGoa\t2.6%\t18.2%\n",
    "11\tGujarat\t8.7%\t41.1%\n",
    "12\tHaryana\t2.5%\t29.1%\n",
    "13\tHimachalPradesh\t1.7%\t32.3%\n",
    "14\tJ&K\t3.6%\t38.3%\n",
    "15\tJharkhand\t8.4%\t47.4%\n",
    "16\tKarnataka\t8.5%\t27.1%\n",
    "17\tKerala\t2.2%\t16.9%\n",
    "18\tLadakh\t3.2%\t35.7%\n",
    "19\tLakshadweep\t17.5%\t28.5%\n",
    "20\tMaharashtra\t10.9%\t33.8%\n",
    "21\tManipur\t43.1%\t58.1%\n",
    "22\tMeghalaya\t28.2%\t57.7%\n",
    "23\tMizoram\t61.6%\t72.9%\n",
    "24\tMadhyaPradesh\t10.2%\t46.5%\n",
    "25\tNagaland\t13.7%\t48.4%\n",
    "26\tOdisha\t26.0%\t51.6%\n",
    "27\tPuducherry\t2.6%\t14.8%\n",
    "28\tPunjab\t0.4%\t12.9%\n",
    "29\tRajasthan\t6.9%\t42.0%\n",
    "30\tSikkim\t11.7%\t41.3%\n",
    "31\tTamilNadu\t4.9%\t20.1%\n",
    "32\tTelangana\t5.6%\t22.3%\n",
    "33\tTripura\t50.4%\t56.9%\n",
    "34\tUttarPradesh\t8.4%\t44.1%\n",
    "35\tUttarakhand\t4.6%\t33.7%\n",
    "36\tWestBengal\t10.8%\t48.1%\n",
    "\"\"\"\n",
    "\n",
    "lines = [line.strip() for line in text.strip().split('\\n')]\n",
    "\n",
    "header = lines[0].split()\n",
    "\n",
    "rows = [line.split() for line in lines[1:]]\n",
    "\n",
    "table = tabulate(rows, headers=header, tablefmt=\"grid\")\n",
    "print(table)"
   ]
  },
  {
   "cell_type": "code",
   "execution_count": 2,
   "id": "352b2516",
   "metadata": {},
   "outputs": [
    {
     "name": "stdout",
     "output_type": "stream",
     "text": [
      "Requirement already satisfied: pandas in c:\\users\\ayushi parkia\\anaconda3\\lib\\site-packages (1.4.2)\n",
      "Requirement already satisfied: numpy>=1.18.5 in c:\\users\\ayushi parkia\\anaconda3\\lib\\site-packages (from pandas) (1.21.5)\n",
      "Requirement already satisfied: python-dateutil>=2.8.1 in c:\\users\\ayushi parkia\\anaconda3\\lib\\site-packages (from pandas) (2.8.2)\n",
      "Requirement already satisfied: pytz>=2020.1 in c:\\users\\ayushi parkia\\anaconda3\\lib\\site-packages (from pandas) (2021.3)\n",
      "Requirement already satisfied: six>=1.5 in c:\\users\\ayushi parkia\\anaconda3\\lib\\site-packages (from python-dateutil>=2.8.1->pandas) (1.16.0)\n",
      "Note: you may need to restart the kernel to use updated packages.\n"
     ]
    }
   ],
   "source": [
    "pip install pandas"
   ]
  },
  {
   "cell_type": "code",
   "execution_count": 1,
   "id": "173293e8",
   "metadata": {},
   "outputs": [
    {
     "name": "stdout",
     "output_type": "stream",
     "text": [
      "Requirement already satisfied: pandas in c:\\users\\ayushi parkia\\anaconda3\\lib\\site-packages (1.4.2)\n",
      "Requirement already satisfied: pytz>=2020.1 in c:\\users\\ayushi parkia\\anaconda3\\lib\\site-packages (from pandas) (2021.3)\n",
      "Requirement already satisfied: python-dateutil>=2.8.1 in c:\\users\\ayushi parkia\\anaconda3\\lib\\site-packages (from pandas) (2.8.2)\n",
      "Requirement already satisfied: numpy>=1.18.5 in c:\\users\\ayushi parkia\\anaconda3\\lib\\site-packages (from pandas) (1.21.5)\n",
      "Requirement already satisfied: six>=1.5 in c:\\users\\ayushi parkia\\anaconda3\\lib\\site-packages (from python-dateutil>=2.8.1->pandas) (1.16.0)\n",
      "Note: you may need to restart the kernel to use updated packages.\n"
     ]
    }
   ],
   "source": [
    "pip install pandas"
   ]
  },
  {
   "cell_type": "code",
   "execution_count": 44,
   "id": "b30fb047",
   "metadata": {},
   "outputs": [],
   "source": [
    "import pandas as pd"
   ]
  },
  {
   "cell_type": "code",
   "execution_count": 52,
   "id": "97b75382",
   "metadata": {
    "scrolled": true
   },
   "outputs": [
    {
     "name": "stdout",
     "output_type": "stream",
     "text": [
      "            State/UT  Women(15years&above)  Men(15years&above)\n",
      "0    Andaman&Nicobar                  31.3                58.7\n",
      "1                 AP                   3.8                22.6\n",
      "2          Arunachal                  18.8                50.3\n",
      "3              Assam                  22.1                51.8\n",
      "4              Bihar                   5.0                48.8\n",
      "5         Chandigarh                   0.6                12.1\n",
      "6        Chattisgarh                  17.3                43.1\n",
      "7                D&N                   2.9                38.6\n",
      "8              Delhi                   2.2                26.3\n",
      "9                Goa                   2.6                18.2\n",
      "10           Gujarat                   8.7                41.1\n",
      "11           Haryana                   2.5                29.1\n",
      "12  Himachal Pradesh                   1.7                32.3\n",
      "13               J&K                   3.6                38.3\n",
      "14         Jharkhand                   8.4                47.4\n",
      "15         Karnataka                   8.5                27.1\n",
      "16            Kerala                   2.2                16.9\n",
      "17            Ladakh                   3.2                35.7\n",
      "18       Lakshadweep                  17.5                28.5\n",
      "19       Maharashtra                  10.9                33.8\n",
      "20           Manipur                  43.1                58.1\n",
      "21         Meghalaya                  28.2                57.7\n",
      "22           Mizoram                  61.6                72.9\n",
      "23    Madhya Pradesh                  10.2                46.5\n",
      "24          Nagaland                  13.7                48.4\n",
      "25            Odisha                  26.0                51.6\n",
      "26        Puducherry                   2.6                14.8\n",
      "27            Punjab                   0.4                12.9\n",
      "28         Rajasthan                   6.9                42.0\n",
      "29            Sikkim                  11.7                41.3\n",
      "30        Tamil Nadu                   4.9                20.1\n",
      "31         Telangana                   5.6                22.3\n",
      "32           Tripura                  50.4                56.9\n",
      "33     Uttar Pradesh                   8.4                44.1\n",
      "34       Uttarakhand                   4.6                33.7\n",
      "35       West Bengal                  10.8                48.1\n"
     ]
    }
   ],
   "source": [
    "# Sample data as a dictionary of lists\n",
    "data = {\n",
    "    'State/UT': ['Andaman&Nicobar', 'AP', 'Arunachal', 'Assam' , 'Bihar' , 'Chandigarh' , 'Chattisgarh' , 'D&N' , 'Delhi' , 'Goa' , 'Gujarat' , 'Haryana' , 'Himachal Pradesh' , 'J&K' , 'Jharkhand' , 'Karnataka' , 'Kerala' , 'Ladakh' , 'Lakshadweep' , 'Maharashtra' , 'Manipur' , 'Meghalaya' , 'Mizoram' , 'Madhya Pradesh' , 'Nagaland' , 'Odisha' , 'Puducherry' , 'Punjab' , 'Rajasthan' , 'Sikkim' , 'Tamil Nadu' , 'Telangana' , 'Tripura' , 'Uttar Pradesh' , 'Uttarakhand' , 'West Bengal'],\n",
    "    'Women(15years&above)': [31.30 , 3.80 , 18.80 , 22.10 , 5.00 , 0.60 , 17.30 , 2.90 , 2.20 , 2.60 , 8.70 , 2.50 , 1.70 , 3.60 , 8.40 , 8.50 , 2.20 , 3.20 , 17.50 , 10.90 , 43.10 , 28.20 , 61.60  , 10.20 , 13.70 , 26.00 , 2.60 , 0.40 , 6.90 , 11.70 , 4.90 , 5.60 , 50.40 , 8.40 , 4.60 , 10.80 ],\n",
    "    'Men(15years&above)': [58.70 , 22.60 , 50.30 , 51.80 , 48.80 , 12.10 , 43.10 , 38.60 , 26.30 , 18.20 , 41.10 , 29.10 , 32.30 , 38.30 , 47.40 , 27.10 , 16.90 , 35.70 , 28.50 , 33.80 , 58.10 , 57.70 , 72.90 , 46.50 , 48.40 , 51.60 , 14.80 , 12.90 , 42.00 , 41.30 , 20.10 , 22.30 , 56.90 , 44.10 , 33.70 , 48.10 ]\n",
    "}\n",
    "\n",
    "# Create a pandas DataFrame from the data\n",
    "df = pd.DataFrame(data)\n",
    "\n",
    "print(df)"
   ]
  },
  {
   "cell_type": "code",
   "execution_count": 49,
   "id": "b9d89c42",
   "metadata": {},
   "outputs": [],
   "source": [
    "file_path = 'tobacco_data.xlsx'"
   ]
  },
  {
   "cell_type": "code",
   "execution_count": 50,
   "id": "28173e07",
   "metadata": {},
   "outputs": [
    {
     "name": "stdout",
     "output_type": "stream",
     "text": [
      "Data exported to tobacco_data.xlsx successfully.\n"
     ]
    }
   ],
   "source": [
    "df.to_excel(file_path, index=False)\n",
    "\n",
    "print(f\"Data exported to {file_path} successfully.\")"
   ]
  },
  {
   "cell_type": "code",
   "execution_count": null,
   "id": "8a2f327c",
   "metadata": {},
   "outputs": [],
   "source": []
  },
  {
   "cell_type": "code",
   "execution_count": null,
   "id": "0d3dfe64",
   "metadata": {},
   "outputs": [],
   "source": []
  }
 ],
 "metadata": {
  "kernelspec": {
   "display_name": "Python 3 (ipykernel)",
   "language": "python",
   "name": "python3"
  },
  "language_info": {
   "codemirror_mode": {
    "name": "ipython",
    "version": 3
   },
   "file_extension": ".py",
   "mimetype": "text/x-python",
   "name": "python",
   "nbconvert_exporter": "python",
   "pygments_lexer": "ipython3",
   "version": "3.9.12"
  }
 },
 "nbformat": 4,
 "nbformat_minor": 5
}
